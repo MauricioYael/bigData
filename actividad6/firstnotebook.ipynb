{
 "cells": [
  {
   "cell_type": "code",
   "execution_count": null,
   "id": "ff7621ea",
   "metadata": {},
   "outputs": [],
   "source": [
    "import requests\n",
    "import pandas as pd\n",
    "import numpy as np\n",
    "from keys import *\n",
    "# Estas lineas nos ayudan a implementar otros datos externos\n",
    "\n",
    "city = \"Guadalajara\"\n",
    "country = \"MX\"\n",
    "#Tenemos ayuda de tener acceso de donde es la ciudad a la que estamos sacando informacion\n",
    "\n",
    "response = requests.get(f\"http://api.openweathermap.org/data/2.5/forecast?q={city},{country}&appid={OWM_key}&units=metric&lang=en\")\n",
    "#Aqui hacemos que nuestra peticion nos ayude a mostrar los datos "
   ]
  },
  {
   "cell_type": "code",
   "execution_count": 8,
   "id": "354c6cdb",
   "metadata": {},
   "outputs": [
    {
     "name": "stdout",
     "output_type": "stream",
     "text": [
      "                  time  temperature  humidity    weather_status  wind_speed  \\\n",
      "0  2025-09-25 00:00:00        21.48        72   overcast clouds        1.86   \n",
      "1  2025-09-25 03:00:00        20.86        76        light rain        1.44   \n",
      "2  2025-09-25 06:00:00        19.97        86        light rain        1.21   \n",
      "3  2025-09-25 09:00:00        18.35        94     broken clouds        1.08   \n",
      "4  2025-09-25 12:00:00        16.34        95  scattered clouds        0.76   \n",
      "\n",
      "   rain_volume_3h  snow_volume_3h  \n",
      "0             NaN             NaN  \n",
      "1            0.15             NaN  \n",
      "2            0.23             NaN  \n",
      "3             NaN             NaN  \n",
      "4             NaN             NaN  \n"
     ]
    }
   ],
   "source": [
    "data = response.json()\n",
    "# con data obtenemos el json\n",
    "\n",
    "forecast_list = data.get('list', [])\n",
    "#con forecast podemos obtener la lista de pronosticos \n",
    "\n",
    "times = []\n",
    "temperatures = []\n",
    "Humidities = []\n",
    "weather_status = []\n",
    "wind_speeds = []\n",
    "rain_volumes = []\n",
    "snow_volumes = []\n",
    "# se crean las listas para cada uno de los datos que queremos obtener\n",
    "\n",
    "for entry in forecast_list:\n",
    "    times.append(entry.get('dt_txt', np.nan))\n",
    "    temperatures.append(entry.get('main', {}).get('temp', np.nan))\n",
    "    Humidities.append(entry.get('main', {}).get('humidity', np.nan))\n",
    "    weather_status.append(entry.get('weather', [{}])[0].get('description', np.nan))\n",
    "    wind_speeds.append(entry.get('wind', {}).get('speed', np.nan))\n",
    "    rain_volumes.append(entry.get('rain', {}).get('3h', np.nan))\n",
    "    snow_volumes.append(entry.get('snow', {}).get('3h', np.nan))\n",
    "# estas lineas nos ayudan a obtener los datos que queremos de la API\n",
    "\n",
    "df = pd.DataFrame({\n",
    "    'time': times,\n",
    "    'temperature': temperatures,\n",
    "    'humidity': Humidities,\n",
    "    'weather_status': weather_status,\n",
    "    'wind_speed': wind_speeds,\n",
    "    'rain_volume_3h': rain_volumes,\n",
    "    'snow_volume_3h': snow_volumes\n",
    "})\n",
    "# con este df podemos obtener el dataframe con los datos que queremos de la API\n",
    "\n",
    "print(df.head())\n",
    "#se imprime el dataframe para ver los datos obtenidos\n"
   ]
  },
  {
   "cell_type": "code",
   "execution_count": null,
   "id": "26df5172",
   "metadata": {},
   "outputs": [],
   "source": []
  }
 ],
 "metadata": {
  "kernelspec": {
   "display_name": "base",
   "language": "python",
   "name": "python3"
  },
  "language_info": {
   "codemirror_mode": {
    "name": "ipython",
    "version": 3
   },
   "file_extension": ".py",
   "mimetype": "text/x-python",
   "name": "python",
   "nbconvert_exporter": "python",
   "pygments_lexer": "ipython3",
   "version": "3.11.7"
  }
 },
 "nbformat": 4,
 "nbformat_minor": 5
}
