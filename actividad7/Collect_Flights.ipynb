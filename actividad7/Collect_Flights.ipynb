{
 "cells": [
  {
   "cell_type": "code",
   "execution_count": null,
   "id": "261fbd59",
   "metadata": {},
   "outputs": [],
   "source": [
    "import requests\n",
    "import json\n",
    "from IPython.display import JSON\n",
    "from keys import *\n",
    "#este archivo contiene las llaves de las APIs"
   ]
  },
  {
   "cell_type": "code",
   "execution_count": null,
   "id": "d6ad2ace",
   "metadata": {},
   "outputs": [],
   "source": [
    "url = \"https://aerodatabox.p.rapidapi.com/flights/airports/icao/MMGL/2025-09-01T08:00/2025-09-01T20:00\"\n",
    "#url con la que tenemos que poner el aeropuerto y el rango de horas\n",
    "#MMGL es el ICAO del aeropuerto de Guadalajara, Jalisco, México\n",
    "\n",
    "querystring = {\"withLeg\":\"true\",\"direction\":\"Arrival\",\"withCancelled\":\"true\",\"withCodeshared\":\"true\",\"withCargo\":\"true\",\"withPrivate\":\"true\",\"withLocation\":\"false\"}\n",
    "#parámetros que se le pueden agregar a la url\n",
    "headers = {\n",
    "    'x-rapidapi-host': \"aerodatabox.p.rapidapi.com\",\n",
    "    'x-rapidapi-key': flights_key\n",
    "}\n",
    "response = requests.request(\"GET\", url, headers=headers, params=querystring)\n",
    "#hacemos la petición a la API"
   ]
  },
  {
   "cell_type": "code",
   "execution_count": null,
   "id": "4f64ff9c",
   "metadata": {},
   "outputs": [
    {
     "name": "stdout",
     "output_type": "stream",
     "text": [
      "Data appended to data.json file.\n"
     ]
    }
   ],
   "source": [
    "if response.status_code == 200:\n",
    "    new_data = response.json()\n",
    "\n",
    "    try:\n",
    "        with open(\"data.json\", \"r\") as json_file:\n",
    "            existing_data = json.load(json_file)\n",
    "    except (FileNotFoundError, json.decoder.JSONDecodeError):\n",
    "        existing_data = []\n",
    "\n",
    "    existing_data.append(new_data)\n",
    "\n",
    "    with open(\"data.json\", \"w\") as json_file:\n",
    "        json.dump(existing_data, json_file, indent=4)\n",
    "        print(\"Data appended to data.json file.\")\n",
    "else:\n",
    "    print(\"Failed to retrieve data from the API. Status code:\", response.status_code)\n",
    "#mostramos el código de estado para ver si la petición fue exitosa"
   ]
  },
  {
   "cell_type": "code",
   "execution_count": null,
   "id": "b132ebfa",
   "metadata": {},
   "outputs": [],
   "source": [
    "flight_arrivals = response.json()\n",
    "\n",
    "for flight in flight_arrivals:\n",
    "    flight_arrivals['arrivals'][0]['arrival']['scheduledTime']\n",
    "    flight_arrivals['arrivals'][0]['number']\n",
    "    flight_arrivals['arrivals'][0]['arrival']['terminal']\n",
    "    flight_arrivals['arrivals'][0]['departure']['airport']['name']\n",
    "    flight_arrivals['arrivals'][0]['aircraft']['model']\n",
    "    flight_arrivals['arrivals'][0]['airline']['name']\n",
    "\n",
    "#se imprimiran los datos que nos interesan de los vuelos que llegan al aeropuerto"
   ]
  },
  {
   "cell_type": "code",
   "execution_count": null,
   "id": "7bd7ce51",
   "metadata": {},
   "outputs": [
    {
     "data": {
      "text/html": [
       "<div>\n",
       "<style scoped>\n",
       "    .dataframe tbody tr th:only-of-type {\n",
       "        vertical-align: middle;\n",
       "    }\n",
       "\n",
       "    .dataframe tbody tr th {\n",
       "        vertical-align: top;\n",
       "    }\n",
       "\n",
       "    .dataframe thead th {\n",
       "        text-align: right;\n",
       "    }\n",
       "</style>\n",
       "<table border=\"1\" class=\"dataframe\">\n",
       "  <thead>\n",
       "    <tr style=\"text-align: right;\">\n",
       "      <th></th>\n",
       "      <th>flight_number</th>\n",
       "      <th>from</th>\n",
       "      <th>airline</th>\n",
       "      <th>aircraft</th>\n",
       "      <th>Scheduled_arrival_time.utc</th>\n",
       "      <th>Scheduled_arrival_time.local</th>\n",
       "    </tr>\n",
       "  </thead>\n",
       "  <tbody>\n",
       "    <tr>\n",
       "      <th>0</th>\n",
       "      <td>AM 204</td>\n",
       "      <td>Mexico City</td>\n",
       "      <td>Aeromexico</td>\n",
       "      <td>Boeing 737-800</td>\n",
       "      <td>2025-09-01 14:30Z</td>\n",
       "      <td>2025-09-01 08:30-06:00</td>\n",
       "    </tr>\n",
       "    <tr>\n",
       "      <th>0</th>\n",
       "      <td>Y4 1001</td>\n",
       "      <td>Tijuana</td>\n",
       "      <td>Volaris</td>\n",
       "      <td>Airbus A320</td>\n",
       "      <td>2025-09-01 14:35Z</td>\n",
       "      <td>2025-09-01 08:35-06:00</td>\n",
       "    </tr>\n",
       "    <tr>\n",
       "      <th>0</th>\n",
       "      <td>Y4 152</td>\n",
       "      <td>Mexico City</td>\n",
       "      <td>Volaris</td>\n",
       "      <td>Airbus A320</td>\n",
       "      <td>2025-09-01 15:03Z</td>\n",
       "      <td>2025-09-01 09:03-06:00</td>\n",
       "    </tr>\n",
       "    <tr>\n",
       "      <th>0</th>\n",
       "      <td>AM 208</td>\n",
       "      <td>Mexico City</td>\n",
       "      <td>Aeromexico</td>\n",
       "      <td>Boeing 737</td>\n",
       "      <td>2025-09-01 15:08Z</td>\n",
       "      <td>2025-09-01 09:08-06:00</td>\n",
       "    </tr>\n",
       "    <tr>\n",
       "      <th>0</th>\n",
       "      <td>VB 3243</td>\n",
       "      <td>Puebla City</td>\n",
       "      <td>VivaAerobus</td>\n",
       "      <td>Airbus A320</td>\n",
       "      <td>2025-09-01 15:20Z</td>\n",
       "      <td>2025-09-01 09:20-06:00</td>\n",
       "    </tr>\n",
       "  </tbody>\n",
       "</table>\n",
       "</div>"
      ],
      "text/plain": [
       "  flight_number         from      airline        aircraft  \\\n",
       "0        AM 204  Mexico City   Aeromexico  Boeing 737-800   \n",
       "0       Y4 1001      Tijuana      Volaris     Airbus A320   \n",
       "0        Y4 152  Mexico City      Volaris     Airbus A320   \n",
       "0        AM 208  Mexico City   Aeromexico      Boeing 737   \n",
       "0       VB 3243  Puebla City  VivaAerobus     Airbus A320   \n",
       "\n",
       "  Scheduled_arrival_time.utc Scheduled_arrival_time.local  \n",
       "0          2025-09-01 14:30Z       2025-09-01 08:30-06:00  \n",
       "0          2025-09-01 14:35Z       2025-09-01 08:35-06:00  \n",
       "0          2025-09-01 15:03Z       2025-09-01 09:03-06:00  \n",
       "0          2025-09-01 15:08Z       2025-09-01 09:08-06:00  \n",
       "0          2025-09-01 15:20Z       2025-09-01 09:20-06:00  "
      ]
     },
     "execution_count": 20,
     "metadata": {},
     "output_type": "execute_result"
    }
   ],
   "source": [
    "import pandas as pd\n",
    "from numpy import nan\n",
    "#datos de los vuelos \n",
    "flight_arrivals = response.json()\n",
    "\n",
    "def flight_extraction(flights):\n",
    "    flights_df = pd.json_normalize({\n",
    "        'Scheduled_arrival_time': flights['arrival']['scheduledTime'],\n",
    "        'flight_number': flights['number'],\n",
    "        'from' : flights['departure']['airport']['name'],\n",
    "        'airline' : flights['airline']['name'],\n",
    "        'aircraft' : flights['aircraft']['model']\n",
    "    })\n",
    "    return(flights_df)\n",
    "\n",
    "flight_arrivals = pd.concat(\n",
    "    [flight_extraction(flight) for flight in flight_arrivals['arrivals']]\n",
    ")\n",
    "\n",
    "flight_arrivals.head()\n",
    "#mostramos los datos en un dataframe de pandas"
   ]
  }
 ],
 "metadata": {
  "kernelspec": {
   "display_name": "base",
   "language": "python",
   "name": "python3"
  },
  "language_info": {
   "codemirror_mode": {
    "name": "ipython",
    "version": 3
   },
   "file_extension": ".py",
   "mimetype": "text/x-python",
   "name": "python",
   "nbconvert_exporter": "python",
   "pygments_lexer": "ipython3",
   "version": "3.11.7"
  }
 },
 "nbformat": 4,
 "nbformat_minor": 5
}
